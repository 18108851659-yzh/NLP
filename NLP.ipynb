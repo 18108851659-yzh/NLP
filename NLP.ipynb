{
  "nbformat": 4,
  "nbformat_minor": 0,
  "metadata": {
    "accelerator": "GPU",
    "colab": {
      "name": "NLP",
      "provenance": [],
      "collapsed_sections": [],
      "mount_file_id": "17uPKu6hlbLE_7xMjW8QaBfucixftXTPp",
      "authorship_tag": "ABX9TyNhwSUr1JJ6FPd6rEdZQ0Lf",
      "include_colab_link": true
    },
    "kernelspec": {
      "display_name": "Python 3",
      "name": "python3"
    }
  },
  "cells": [
    {
      "cell_type": "markdown",
      "metadata": {
        "id": "view-in-github",
        "colab_type": "text"
      },
      "source": [
        "<a href=\"https://colab.research.google.com/github/18108851659-yzh/NLP/blob/main/NLP.ipynb\" target=\"_parent\"><img src=\"https://colab.research.google.com/assets/colab-badge.svg\" alt=\"Open In Colab\"/></a>"
      ]
    },
    {
      "cell_type": "code",
      "metadata": {
        "colab": {
          "base_uri": "https://localhost:8080/"
        },
        "id": "S1PpBpKMEzLf",
        "outputId": "0fb0cde5-7259-437a-ba4f-5e86a27b19ee"
      },
      "source": [
        "from google.colab import drive\r\n",
        "drive.mount('/content/drive')"
      ],
      "execution_count": null,
      "outputs": [
        {
          "output_type": "stream",
          "text": [
            "Mounted at /content/drive\n"
          ],
          "name": "stdout"
        }
      ]
    },
    {
      "cell_type": "code",
      "metadata": {
        "colab": {
          "base_uri": "https://localhost:8080/"
        },
        "id": "kd4_lDJCE7Vi",
        "outputId": "8fbe1407-1f26-4ee4-8103-b21acc2c460e"
      },
      "source": [
        "import itertools\r\n",
        "import os\r\n",
        "\r\n",
        "import matplotlib.pylab as plt\r\n",
        "import numpy as np\r\n",
        "\r\n",
        "import tensorflow as tf\r\n",
        "import tensorflow_hub as hub\r\n",
        "\r\n",
        "print(\"TF version:\", tf.__version__)\r\n",
        "print(\"Hub version:\", hub.__version__)\r\n",
        "print(\"GPU is\", \"available\" if tf.test.is_gpu_available() else \"NOT AVAILABLE\")"
      ],
      "execution_count": null,
      "outputs": [
        {
          "output_type": "stream",
          "text": [
            "TF version: 2.4.1\n",
            "Hub version: 0.11.0\n",
            "WARNING:tensorflow:From <ipython-input-1-0831fa394ed3>:12: is_gpu_available (from tensorflow.python.framework.test_util) is deprecated and will be removed in a future version.\n",
            "Instructions for updating:\n",
            "Use `tf.config.list_physical_devices('GPU')` instead.\n",
            "GPU is available\n"
          ],
          "name": "stdout"
        }
      ]
    },
    {
      "cell_type": "code",
      "metadata": {
        "id": "IQXNKdbvFGOM"
      },
      "source": [
        "!unzip /content/drive/MyDrive/Colab\\ Notebooks/aclImdb.zip >train2.log"
      ],
      "execution_count": 4,
      "outputs": []
    },
    {
      "cell_type": "code",
      "metadata": {
        "id": "sdUkNicTFx7b"
      },
      "source": [
        "import os\r\n",
        "imdb_dir = '/content/aclImdb'\r\n",
        "train_dir = os.path.join(imdb_dir, 'train')\r\n",
        "labels = []\r\n",
        "texts = []\r\n",
        "for label_type in ['neg', 'pos']:\r\n",
        " dir_name = os.path.join(train_dir, label_type)\r\n",
        " for fname in os.listdir(dir_name):\r\n",
        "   if fname[-4:] == '.txt':\r\n",
        "    f = open(os.path.join(dir_name, fname))\r\n",
        "    texts.append(f.read())\r\n",
        "    f.close()\r\n",
        "    if label_type == 'neg':\r\n",
        "      labels.append(0)\r\n",
        "    else:\r\n",
        "      labels.append(1)"
      ],
      "execution_count": 6,
      "outputs": []
    },
    {
      "cell_type": "code",
      "metadata": {
        "id": "iccxPqSsMj8g"
      },
      "source": [
        "!unzip /content/drive/MyDrive/Colab\\ Notebooks/upfile/glove.6B.zip -d /content/drive/MyDrive/Colab\\ Notebooks/upfile/ >train3.log"
      ],
      "execution_count": 7,
      "outputs": []
    },
    {
      "cell_type": "code",
      "metadata": {
        "colab": {
          "base_uri": "https://localhost:8080/"
        },
        "id": "ouUKD7cdNYRa",
        "outputId": "3deb3642-6546-499e-ed05-5039a4081800"
      },
      "source": [
        "from keras.preprocessing.text import Tokenizer\r\n",
        "from keras.preprocessing.sequence import pad_sequences\r\n",
        "import numpy as np\r\n",
        "maxlen = 100 \r\n",
        "training_samples = 200 \r\n",
        "validation_samples = 10000 \r\n",
        "max_words = 10000 \r\n",
        "tokenizer = Tokenizer(num_words=max_words)\r\n",
        "tokenizer.fit_on_texts(texts)\r\n",
        "sequences = tokenizer.texts_to_sequences(texts)\r\n",
        "word_index = tokenizer.word_index\r\n",
        "print('Found %s unique tokens.' % len(word_index))\r\n",
        "data = pad_sequences(sequences, maxlen=maxlen)\r\n",
        "labels = np.asarray(labels)\r\n",
        "print('Shape of data tensor:', data.shape)\r\n",
        "print('Shape of label tensor:', labels.shape)\r\n",
        "indices = np.arange(data.shape[0]) \r\n",
        "np.random.shuffle(indices)\r\n",
        "data = data[indices]\r\n",
        "labels = labels[indices]\r\n",
        "x_train = data[:training_samples]\r\n",
        "y_train = labels[:training_samples]\r\n",
        "x_val = data[training_samples: training_samples + validation_samples] \r\n",
        "y_val = labels[training_samples: training_samples + validation_samples]"
      ],
      "execution_count": 8,
      "outputs": [
        {
          "output_type": "stream",
          "text": [
            "Found 88582 unique tokens.\n",
            "Shape of data tensor: (25000, 100)\n",
            "Shape of label tensor: (25000,)\n"
          ],
          "name": "stdout"
        }
      ]
    },
    {
      "cell_type": "code",
      "metadata": {
        "colab": {
          "base_uri": "https://localhost:8080/"
        },
        "id": "Ac7Ktvm5OJyS",
        "outputId": "374fbabf-3d48-4ade-c4ad-452f5519a50b"
      },
      "source": [
        "glove_dir = '/content/drive/MyDrive/Colab Notebooks/upfile/'\r\n",
        "embeddings_index = {}\r\n",
        "f = open(os.path.join(glove_dir, 'glove.6B.100d.txt'))\r\n",
        "for line in f:\r\n",
        " values = line.split()\r\n",
        " word = values[0]\r\n",
        " coefs = np.asarray(values[1:], dtype='float32')\r\n",
        " embeddings_index[word] = coefs\r\n",
        "f.close()\r\n",
        "print('Found %s word vectors.' % len(embeddings_index))"
      ],
      "execution_count": 10,
      "outputs": [
        {
          "output_type": "stream",
          "text": [
            "Found 400000 word vectors.\n"
          ],
          "name": "stdout"
        }
      ]
    },
    {
      "cell_type": "code",
      "metadata": {
        "id": "gc9ocQ4lPeVZ"
      },
      "source": [
        "embedding_dim = 100\r\n",
        "embedding_matrix = np.zeros((max_words, embedding_dim))\r\n",
        "for word, i in word_index.items():\r\n",
        " if i < max_words:\r\n",
        "  embedding_vector = embeddings_index.get(word)\r\n",
        "  if embedding_vector is not None:\r\n",
        "   embedding_matrix[i] = embedding_vector"
      ],
      "execution_count": 14,
      "outputs": []
    },
    {
      "cell_type": "code",
      "metadata": {
        "colab": {
          "base_uri": "https://localhost:8080/"
        },
        "id": "izCBFXNbQGcS",
        "outputId": "6ac78c33-1c7d-4abf-cab1-79d9ff37df2d"
      },
      "source": [
        "from keras.models import Sequential\r\n",
        "from keras.layers import Embedding, Flatten, Dense\r\n",
        "model = Sequential()\r\n",
        "model.add(Embedding(max_words, embedding_dim, input_length=maxlen))\r\n",
        "model.add(Flatten())\r\n",
        "model.add(Dense(32, activation='relu'))\r\n",
        "model.add(Dense(1, activation='sigmoid'))\r\n",
        "model.summary()"
      ],
      "execution_count": 15,
      "outputs": [
        {
          "output_type": "stream",
          "text": [
            "Model: \"sequential\"\n",
            "_________________________________________________________________\n",
            "Layer (type)                 Output Shape              Param #   \n",
            "=================================================================\n",
            "embedding (Embedding)        (None, 100, 100)          1000000   \n",
            "_________________________________________________________________\n",
            "flatten (Flatten)            (None, 10000)             0         \n",
            "_________________________________________________________________\n",
            "dense (Dense)                (None, 32)                320032    \n",
            "_________________________________________________________________\n",
            "dense_1 (Dense)              (None, 1)                 33        \n",
            "=================================================================\n",
            "Total params: 1,320,065\n",
            "Trainable params: 1,320,065\n",
            "Non-trainable params: 0\n",
            "_________________________________________________________________\n"
          ],
          "name": "stdout"
        }
      ]
    },
    {
      "cell_type": "code",
      "metadata": {
        "id": "P3YOtTjrQTwH"
      },
      "source": [
        "model.layers[0].set_weights([embedding_matrix])\r\n",
        "model.layers[0].trainable = False"
      ],
      "execution_count": 16,
      "outputs": []
    },
    {
      "cell_type": "code",
      "metadata": {
        "colab": {
          "base_uri": "https://localhost:8080/"
        },
        "id": "Je6EWHsiQo-t",
        "outputId": "34c729f9-c655-4227-9a2a-9066e1e83979"
      },
      "source": [
        "model.compile(optimizer='rmsprop',\r\n",
        " loss='binary_crossentropy',\r\n",
        " metrics=['acc'])\r\n",
        "history = model.fit(x_train, y_train,\r\n",
        " epochs=10,\r\n",
        " batch_size=32,\r\n",
        " validation_data=(x_val, y_val))\r\n",
        "model.save_weights('pre_trained_glove_model.h5')"
      ],
      "execution_count": 17,
      "outputs": [
        {
          "output_type": "stream",
          "text": [
            "Epoch 1/10\n",
            "7/7 [==============================] - 3s 134ms/step - loss: 2.2017 - acc: 0.4696 - val_loss: 1.0756 - val_acc: 0.5015\n",
            "Epoch 2/10\n",
            "7/7 [==============================] - 1s 107ms/step - loss: 0.7408 - acc: 0.6134 - val_loss: 1.0970 - val_acc: 0.5008\n",
            "Epoch 3/10\n",
            "7/7 [==============================] - 1s 110ms/step - loss: 0.5232 - acc: 0.6721 - val_loss: 1.2301 - val_acc: 0.5019\n",
            "Epoch 4/10\n",
            "7/7 [==============================] - 1s 107ms/step - loss: 0.3117 - acc: 0.8604 - val_loss: 0.7279 - val_acc: 0.5549\n",
            "Epoch 5/10\n",
            "7/7 [==============================] - 1s 107ms/step - loss: 0.1129 - acc: 0.9968 - val_loss: 2.4479 - val_acc: 0.4988\n",
            "Epoch 6/10\n",
            "7/7 [==============================] - 1s 107ms/step - loss: 0.6316 - acc: 0.7105 - val_loss: 0.8657 - val_acc: 0.5394\n",
            "Epoch 7/10\n",
            "7/7 [==============================] - 1s 106ms/step - loss: 0.0569 - acc: 1.0000 - val_loss: 0.7584 - val_acc: 0.5593\n",
            "Epoch 8/10\n",
            "7/7 [==============================] - 1s 131ms/step - loss: 0.0483 - acc: 1.0000 - val_loss: 0.7530 - val_acc: 0.5582\n",
            "Epoch 9/10\n",
            "7/7 [==============================] - 1s 108ms/step - loss: 0.0297 - acc: 1.0000 - val_loss: 0.9107 - val_acc: 0.5380\n",
            "Epoch 10/10\n",
            "7/7 [==============================] - 1s 108ms/step - loss: 0.0238 - acc: 1.0000 - val_loss: 0.9387 - val_acc: 0.5404\n"
          ],
          "name": "stdout"
        }
      ]
    },
    {
      "cell_type": "code",
      "metadata": {
        "colab": {
          "base_uri": "https://localhost:8080/",
          "height": 545
        },
        "id": "1UlUIERLQ8_f",
        "outputId": "5e6caf93-bf39-4d97-ae4f-737442dac784"
      },
      "source": [
        "import matplotlib.pyplot as plt\r\n",
        "acc = history.history['acc']\r\n",
        "val_acc = history.history['val_acc']\r\n",
        "loss = history.history['loss']\r\n",
        "val_loss = history.history['val_loss']\r\n",
        "epochs = range(1, len(acc) + 1)\r\n",
        "plt.plot(epochs, acc, 'bo', label='Training acc')\r\n",
        "plt.plot(epochs, val_acc, 'b', label='Validation acc')\r\n",
        "plt.title('Training and validation accuracy')\r\n",
        "plt.legend()\r\n",
        "plt.figure()\r\n",
        "plt.plot(epochs, loss, 'bo', label='Training loss')\r\n",
        "plt.plot(epochs, val_loss, 'b', label='Validation loss')\r\n",
        "plt.title('Training and validation loss')\r\n",
        "plt.legend()\r\n",
        "plt.show()"
      ],
      "execution_count": 19,
      "outputs": [
        {
          "output_type": "display_data",
          "data": {
            "image/png": "[encoded data removed]",
            "text/plain": [
              "<Figure size 432x288 with 1 Axes>"
            ]
          },
          "metadata": {
            "tags": [],
            "needs_background": "light"
          }
        },
        {
          "output_type": "display_data",
          "data": {
            "image/png": "[encoded data removed]",
            "text/plain": [
              "<Figure size 432x288 with 1 Axes>"
            ]
          },
          "metadata": {
            "tags": [],
            "needs_background": "light"
          }
        }
      ]
    },
    {
      "cell_type": "code",
      "metadata": {
        "id": "wMge7I6RRmCF"
      },
      "source": [
        ""
      ],
      "execution_count": null,
      "outputs": []
    },
    {
      "cell_type": "code",
      "metadata": {
        "colab": {
          "base_uri": "https://localhost:8080/"
        },
        "id": "W4T4iKhKRB5n",
        "outputId": "bf7a2195-6431-4ac9-9e1d-a75fdf5c7aa5"
      },
      "source": [
        "from keras.models import Sequential\r\n",
        "from keras.layers import Embedding, Flatten, Dense\r\n",
        "model = Sequential()\r\n",
        "model.add(Embedding(max_words, embedding_dim, input_length=maxlen))\r\n",
        "model.add(Flatten())\r\n",
        "model.add(Dense(32, activation='relu'))\r\n",
        "model.add(Dense(1, activation='sigmoid'))\r\n",
        "model.summary()\r\n",
        "model.compile(optimizer='rmsprop',\r\n",
        " loss='binary_crossentropy',\r\n",
        " metrics=['acc'])\r\n",
        "history = model.fit(x_train, y_train,\r\n",
        " epochs=10,\r\n",
        " batch_size=32,\r\n",
        " validation_data=(x_val, y_val))"
      ],
      "execution_count": 20,
      "outputs": [
        {
          "output_type": "stream",
          "text": [
            "Model: \"sequential_1\"\n",
            "_________________________________________________________________\n",
            "Layer (type)                 Output Shape              Param #   \n",
            "=================================================================\n",
            "embedding_1 (Embedding)      (None, 100, 100)          1000000   \n",
            "_________________________________________________________________\n",
            "flatten_1 (Flatten)          (None, 10000)             0         \n",
            "_________________________________________________________________\n",
            "dense_2 (Dense)              (None, 32)                320032    \n",
            "_________________________________________________________________\n",
            "dense_3 (Dense)              (None, 1)                 33        \n",
            "=================================================================\n",
            "Total params: 1,320,065\n",
            "Trainable params: 1,320,065\n",
            "Non-trainable params: 0\n",
            "_________________________________________________________________\n",
            "Epoch 1/10\n",
            "7/7 [==============================] - 1s 137ms/step - loss: 0.6942 - acc: 0.4662 - val_loss: 0.6930 - val_acc: 0.5095\n",
            "Epoch 2/10\n",
            "7/7 [==============================] - 1s 117ms/step - loss: 0.5178 - acc: 0.9901 - val_loss: 0.6974 - val_acc: 0.5091\n",
            "Epoch 3/10\n",
            "7/7 [==============================] - 1s 111ms/step - loss: 0.3121 - acc: 1.0000 - val_loss: 0.6984 - val_acc: 0.5152\n",
            "Epoch 4/10\n",
            "7/7 [==============================] - 1s 106ms/step - loss: 0.1427 - acc: 1.0000 - val_loss: 0.7003 - val_acc: 0.5213\n",
            "Epoch 5/10\n",
            "7/7 [==============================] - 1s 112ms/step - loss: 0.0722 - acc: 1.0000 - val_loss: 0.7048 - val_acc: 0.5231\n",
            "Epoch 6/10\n",
            "7/7 [==============================] - 1s 110ms/step - loss: 0.0371 - acc: 1.0000 - val_loss: 0.7105 - val_acc: 0.5222\n",
            "Epoch 7/10\n",
            "7/7 [==============================] - 1s 109ms/step - loss: 0.0195 - acc: 1.0000 - val_loss: 0.7152 - val_acc: 0.5266\n",
            "Epoch 8/10\n",
            "7/7 [==============================] - 1s 109ms/step - loss: 0.0118 - acc: 1.0000 - val_loss: 0.7260 - val_acc: 0.5207\n",
            "Epoch 9/10\n",
            "7/7 [==============================] - 1s 111ms/step - loss: 0.0069 - acc: 1.0000 - val_loss: 0.7308 - val_acc: 0.5215\n",
            "Epoch 10/10\n",
            "7/7 [==============================] - 1s 110ms/step - loss: 0.0042 - acc: 1.0000 - val_loss: 0.7334 - val_acc: 0.5276\n"
          ],
          "name": "stdout"
        }
      ]
    },
    {
      "cell_type": "code",
      "metadata": {
        "colab": {
          "base_uri": "https://localhost:8080/",
          "height": 545
        },
        "id": "hQWprgM4RnuU",
        "outputId": "51d112d5-eb25-4bbe-80f9-dfefecfb54bb"
      },
      "source": [
        "acc = history.history['acc']\r\n",
        "val_acc = history.history['val_acc']\r\n",
        "loss = history.history['loss']\r\n",
        "val_loss = history.history['val_loss']\r\n",
        "epochs = range(1, len(acc) + 1)\r\n",
        "plt.plot(epochs, acc, 'bo', label='Training acc')\r\n",
        "plt.plot(epochs, val_acc, 'b', label='Validation acc')\r\n",
        "plt.title('Training and validation accuracy')\r\n",
        "plt.legend()\r\n",
        "plt.figure()\r\n",
        "plt.plot(epochs, loss, 'bo', label='Training loss')\r\n",
        "plt.plot(epochs, val_loss, 'b', label='Validation loss')\r\n",
        "plt.title('Training and validation loss')\r\n",
        "plt.legend()\r\n",
        "plt.show()"
      ],
      "execution_count": 21,
      "outputs": [
        {
          "output_type": "display_data",
          "data": {
            "image/png": "[encoded data removed]",
            "text/plain": [
              "<Figure size 432x288 with 1 Axes>"
            ]
          },
          "metadata": {
            "tags": [],
            "needs_background": "light"
          }
        },
        {
          "output_type": "display_data",
          "data": {
            "image/png": "[encoded data removed]",
            "text/plain": [
              "<Figure size 432x288 with 1 Axes>"
            ]
          },
          "metadata": {
            "tags": [],
            "needs_background": "light"
          }
        }
      ]
    },
    {
      "cell_type": "code",
      "metadata": {
        "id": "dCSUMeRUR2sH"
      },
      "source": [
        "test_dir = os.path.join(imdb_dir, 'test')\r\n",
        "labels = []\r\n",
        "texts = []\r\n",
        "for label_type in ['neg', 'pos']:\r\n",
        " dir_name = os.path.join(test_dir, label_type)\r\n",
        " for fname in sorted(os.listdir(dir_name)):\r\n",
        "  if fname[-4:] == '.txt':\r\n",
        "    f = open(os.path.join(dir_name, fname))\r\n",
        "    texts.append(f.read())\r\n",
        "    f.close()\r\n",
        "    if label_type == 'neg':\r\n",
        "      labels.append(0)\r\n",
        "    else:\r\n",
        "      labels.append(1)\r\n",
        "sequences = tokenizer.texts_to_sequences(texts)\r\n",
        "x_test = pad_sequences(sequences, maxlen=maxlen)\r\n",
        "y_test = np.asarray(labels)"
      ],
      "execution_count": 23,
      "outputs": []
    },
    {
      "cell_type": "code",
      "metadata": {
        "colab": {
          "base_uri": "https://localhost:8080/"
        },
        "id": "_vYXqNyfSKRc",
        "outputId": "07c46088-c4fb-49ac-86bb-3b0cc38f502c"
      },
      "source": [
        "model.load_weights('pre_trained_glove_model.h5')\r\n",
        "model.evaluate(x_test, y_test)"
      ],
      "execution_count": 24,
      "outputs": [
        {
          "output_type": "stream",
          "text": [
            "782/782 [==============================] - 2s 2ms/step - loss: 0.9434 - acc: 0.5404\n"
          ],
          "name": "stdout"
        },
        {
          "output_type": "execute_result",
          "data": {
            "text/plain": [
              "[0.943425714969635, 0.540440022945404]"
            ]
          },
          "metadata": {
            "tags": []
          },
          "execution_count": 24
        }
      ]
    },
    {
      "cell_type": "code",
      "metadata": {
        "colab": {
          "base_uri": "https://localhost:8080/"
        },
        "id": "mJEPjsycTArb",
        "outputId": "0471c0b6-a0d9-4208-9926-8d1726887115"
      },
      "source": [
        "!ls -l;mv /content/aclImdb /content/drive/MyDrive/Colab\\ Notebooks/"
      ],
      "execution_count": 25,
      "outputs": [
        {
          "output_type": "stream",
          "text": [
            "total 10020\n",
            "drwxr-xr-x 4 root root    4096 Nov 18  2017 aclImdb\n",
            "drwx------ 4 root root    4096 Feb  5 03:02 drive\n",
            "drwxrwxr-x 3 root root    4096 Nov 18  2017 __MACOSX\n",
            "-rw-r--r-- 1 root root 5296440 Feb  5 03:32 pre_trained_glove_model.h5\n",
            "drwxr-xr-x 1 root root    4096 Feb  1 17:27 sample_data\n",
            "-rw-r--r-- 1 root root 4932060 Feb  5 03:09 train2.log\n",
            "-rw-r--r-- 1 root root     384 Feb  5 03:17 train3.log\n",
            "-rw-r--r-- 1 root root      61 Feb  5 03:04 train.log\n"
          ],
          "name": "stdout"
        }
      ]
    }
  ]
}